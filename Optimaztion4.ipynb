{
  "nbformat": 4,
  "nbformat_minor": 0,
  "metadata": {
    "colab": {
      "provenance": []
    },
    "kernelspec": {
      "name": "python3",
      "display_name": "Python 3"
    },
    "language_info": {
      "name": "python"
    }
  },
  "cells": [
    {
      "cell_type": "markdown",
      "source": [
        "Answer should be closer to  0 0 0 and f(x) should close to 0 which is what i am getting :)"
      ],
      "metadata": {
        "id": "VS9KNUiZOcFF"
      }
    },
    {
      "cell_type": "code",
      "source": [
        "import numpy as np\n",
        "\n",
        "def func(x):\n",
        "    # Objective function\n",
        "    x1, x2, x3 = x[0], x[1], x[2]\n",
        "    return x1**2 + x2**2 + x3**2 - x1*x2 - x2*x3\n",
        "\n",
        "def gradient(x):\n",
        "    # Gradient of the objective function\n",
        "    x1, x2, x3 = x\n",
        "    df_dx1 = 2*x1 - x2\n",
        "    df_dx2 = 2*x2 - x1 - x3\n",
        "    df_dx3 = 2*x3 - x2\n",
        "    return np.array([df_dx1, df_dx2, df_dx3])\n",
        "\n",
        "def conjugate_gradient(x0, max_iter=1000, tol=1e-6):\n",
        "    # Conjugate gradient optimization method\n",
        "    x = x0\n",
        "    g = gradient(x)\n",
        "    d = -g\n",
        "\n",
        "    for k in range(max_iter):\n",
        "        Ad = np.dot(A, d)\n",
        "        numerator = -np.dot(g, d)\n",
        "        denominator = np.dot(np.dot(A, d), d)\n",
        "        #generating lambda\n",
        "        lambda_k = numerator / denominator\n",
        "\n",
        "        x_new = x + lambda_k * d\n",
        "        g_new = gradient(x_new)\n",
        "        #beta value\n",
        "        beta_k = np.dot(g_new, g_new) / np.dot(g, g)\n",
        "        d = -g_new + beta_k * d\n",
        "\n",
        "        if np.linalg.norm(g_new) < tol:\n",
        "            break\n",
        "        #updating old x and g with new\n",
        "        x, g = x_new, g_new\n",
        "\n",
        "    return x_new\n",
        "\n",
        "# Test the conjugate gradient method\n",
        "A = np.array([[2, -1, 0], [-1, 2, -1], [0, -1, 2]])\n",
        "x0 = np.array([0, 1, 2])\n",
        "result = conjugate_gradient(x0)\n",
        "\n",
        "# Print results\n",
        "print(\"Minimum point:\", result)\n",
        "print(\"Minimum value:\", func(result))\n"
      ],
      "metadata": {
        "colab": {
          "base_uri": "https://localhost:8080/"
        },
        "id": "kQWAsPmxiRmU",
        "outputId": "709b4270-1eb3-4ae7-d66e-70c4de47d8e9"
      },
      "execution_count": 10,
      "outputs": [
        {
          "output_type": "stream",
          "name": "stdout",
          "text": [
            "Minimum point: [1.11022302e-16 5.55111512e-17 0.00000000e+00]\n",
            "Minimum value: 9.244463733058732e-33\n"
          ]
        }
      ]
    }
  ]
}